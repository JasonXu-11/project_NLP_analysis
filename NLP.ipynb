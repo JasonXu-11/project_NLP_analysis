{
 "cells": [
  {
   "cell_type": "code",
   "execution_count": 18,
   "id": "2c4331cd-eac6-4cff-9c33-ab4942172e6c",
   "metadata": {},
   "outputs": [],
   "source": [
    "import pandas as pd\n",
    "import numpy as np\n",
    "import matplotlib.pyplot as plt\n",
    "from sklearn.svm import SVC\n",
    "from sklearn.ensemble import RandomForestClassifier, ExtraTreesClassifier\n",
    "from sklearn.model_selection import cross_val_score, train_test_split, GridSearchCV\n",
    "from sklearn.pipeline import Pipeline\n",
    "from sklearn.metrics import plot_confusion_matrix, classification_report\n",
    "from sklearn.feature_extraction.text import CountVectorizer, TfidfVectorizer"
   ]
  },
  {
   "cell_type": "code",
   "execution_count": 2,
   "id": "a7d01a35-501e-41bb-92ca-e6739a25a680",
   "metadata": {},
   "outputs": [],
   "source": [
    "# import and concat dataframes\n",
    "crypto = pd.read_csv('file/crypto.csv')\n",
    "stock = pd.read_csv('file/stockmarket.csv')"
   ]
  },
  {
   "cell_type": "code",
   "execution_count": 3,
   "id": "6b71e920-3309-4bc7-8e33-afd85f15f492",
   "metadata": {},
   "outputs": [],
   "source": [
    "crypto = crypto[['subreddit','title']]\n",
    "stock = stock[['subreddit','title']]"
   ]
  },
  {
   "cell_type": "code",
   "execution_count": 4,
   "id": "284ddce4-f439-467b-9bb5-8ec28812b006",
   "metadata": {},
   "outputs": [],
   "source": [
    "frames = [crypto,stock]\n",
    "df = pd.concat(frames)"
   ]
  },
  {
   "cell_type": "code",
   "execution_count": 5,
   "id": "8e809810-fcf4-4067-adbc-1c05a1d2a685",
   "metadata": {},
   "outputs": [],
   "source": [
    "# Make Cryptocurrency label as 1, stockmarket label as 0\n",
    "df['subreddit'] = [1 if i == 'CryptoCurrency' else 0 for i in df['subreddit']]"
   ]
  },
  {
   "cell_type": "code",
   "execution_count": 6,
   "id": "ee816705-8da3-4c78-887a-7071dbc3a5cb",
   "metadata": {},
   "outputs": [
    {
     "data": {
      "text/plain": [
       "0    0.5\n",
       "1    0.5\n",
       "Name: subreddit, dtype: float64"
      ]
     },
     "execution_count": 6,
     "metadata": {},
     "output_type": "execute_result"
    }
   ],
   "source": [
    "# X and y\n",
    "X = df['title']\n",
    "y = df['subreddit']\n",
    "\n",
    "# Baseline accuracy\n",
    "y.value_counts(normalize=True)"
   ]
  },
  {
   "cell_type": "code",
   "execution_count": 7,
   "id": "210be8dc-418a-4eef-acfe-5877106b5900",
   "metadata": {},
   "outputs": [],
   "source": [
    "# Split the data into the training and testing sets.\n",
    "X_train, X_test, y_train, y_test = train_test_split(X,\n",
    "                                                    y,\n",
    "                                                    stratify=y,\n",
    "                                                    random_state=42)"
   ]
  },
  {
   "cell_type": "markdown",
   "id": "9a34a5eb-9a1a-4176-8b33-5bbe048c172a",
   "metadata": {},
   "source": [
    "## Pipeline and Gridsearch"
   ]
  },
  {
   "cell_type": "markdown",
   "id": "49ae19b2-51d0-4a78-9c09-20de937871ab",
   "metadata": {},
   "source": [
    "### Random Forest and Extra Tree"
   ]
  },
  {
   "cell_type": "code",
   "execution_count": 8,
   "id": "b7be7ad6-dbad-45dd-9a25-d2bf8dbf93bb",
   "metadata": {},
   "outputs": [
    {
     "name": "stdout",
     "output_type": "stream",
     "text": [
      "0.8013333333333333\n"
     ]
    },
    {
     "data": {
      "text/plain": [
       "{'rf__max_depth': None, 'rf__n_estimators': 200}"
      ]
     },
     "execution_count": 8,
     "metadata": {},
     "output_type": "execute_result"
    }
   ],
   "source": [
    "# Set a pipeline with two stages:\n",
    "# transform with countvectorizer\n",
    "# estimate with random forest\n",
    "pipe = Pipeline([\n",
    "    ('cvec', CountVectorizer()),\n",
    "    ('rf', RandomForestClassifier())\n",
    "])\n",
    "\n",
    "# gridsearch with random forest\n",
    "# parameters for rf\n",
    "rf_params = {\n",
    "    'rf__n_estimators': [100,150,200],\n",
    "    'rf__max_depth': [None, 1,2,3,4,5]\n",
    "}\n",
    "\n",
    "gs_rf = GridSearchCV(pipe, param_grid= rf_params, cv= 5)\n",
    "gs_rf.fit(X_train,y_train)\n",
    "print(gs_rf.best_score_)\n",
    "gs_rf.best_params_"
   ]
  },
  {
   "cell_type": "code",
   "execution_count": 9,
   "id": "26312acd-45f9-4c4e-8793-6fc93a665fe4",
   "metadata": {},
   "outputs": [
    {
     "data": {
      "text/plain": [
       "(0.9986666666666667, 0.828)"
      ]
     },
     "execution_count": 9,
     "metadata": {},
     "output_type": "execute_result"
    }
   ],
   "source": [
    "gs_rf.score(X_train,y_train),gs_rf.score(X_test,y_test)"
   ]
  },
  {
   "cell_type": "code",
   "execution_count": 10,
   "id": "9b0461dc-077c-4288-a604-5aa5a6843f41",
   "metadata": {},
   "outputs": [
    {
     "data": {
      "image/png": "[encoded data removed]",
      "text/plain": [
       "<Figure size 432x288 with 2 Axes>"
      ]
     },
     "metadata": {
      "needs_background": "light"
     },
     "output_type": "display_data"
    }
   ],
   "source": [
    "plot_confusion_matrix(gs_rf, X_test,y_test)\n",
    "plt.title('confusion matrix random forest')\n",
    "plt.savefig('picture/confusion_matrix_rf.png');"
   ]
  },
  {
   "cell_type": "code",
   "execution_count": 44,
   "id": "16485cbe-4cae-43b9-ae9c-087594a2a55d",
   "metadata": {},
   "outputs": [
    {
     "name": "stdout",
     "output_type": "stream",
     "text": [
      "              precision    recall  f1-score   support\n",
      "\n",
      "           0       0.78      0.91      0.84       250\n",
      "           1       0.89      0.75      0.81       250\n",
      "\n",
      "    accuracy                           0.83       500\n",
      "   macro avg       0.84      0.83      0.83       500\n",
      "weighted avg       0.84      0.83      0.83       500\n",
      "\n"
     ]
    }
   ],
   "source": [
    "# Classification report\n",
    "y_preds_rf = gs_rf.predict(X_test)\n",
    "report_rf = classification_report(y_test, y_preds_rf,output_dict=True)\n",
    "print(classification_report(y_test, y_preds_rf))"
   ]
  },
  {
   "cell_type": "code",
   "execution_count": 41,
   "id": "f2b573f7-90ba-4e13-9e2c-54378d94bbd7",
   "metadata": {},
   "outputs": [],
   "source": [
    "dict_rf = pd.DataFrame(report_rf)\n",
    "dict_rf.to_csv('EDA/classification_report_rf.csv')"
   ]
  },
  {
   "cell_type": "code",
   "execution_count": 12,
   "id": "7aaa349f-7e3b-4dea-a5ce-469e681254c3",
   "metadata": {},
   "outputs": [
    {
     "name": "stdout",
     "output_type": "stream",
     "text": [
      "0.7986666666666666\n"
     ]
    },
    {
     "data": {
      "text/plain": [
       "{'et__max_depth': None, 'et__n_estimators': 200}"
      ]
     },
     "execution_count": 12,
     "metadata": {},
     "output_type": "execute_result"
    }
   ],
   "source": [
    "# estimate with extra tree\n",
    "pipe = Pipeline([\n",
    "    ('cvec', CountVectorizer()),\n",
    "    ('et', ExtraTreesClassifier())\n",
    "])\n",
    "\n",
    "# gridsearch with extra trees\n",
    "# parameters for et\n",
    "et_params = {\n",
    "    'et__n_estimators': [100,150,200],\n",
    "    'et__max_depth': [None, 1,2,3,4,5]\n",
    "}\n",
    "\n",
    "gs_et = GridSearchCV(pipe, param_grid= et_params, cv= 5)\n",
    "gs_et.fit(X_train,y_train)\n",
    "print(gs_et.best_score_)\n",
    "gs_et.best_params_"
   ]
  },
  {
   "cell_type": "code",
   "execution_count": 13,
   "id": "8e3733ab-d783-4813-a272-facc2d4d1555",
   "metadata": {},
   "outputs": [
    {
     "data": {
      "text/plain": [
       "(0.9986666666666667, 0.838)"
      ]
     },
     "execution_count": 13,
     "metadata": {},
     "output_type": "execute_result"
    }
   ],
   "source": [
    "gs_et.score(X_train,y_train),gs_et.score(X_test,y_test)"
   ]
  },
  {
   "cell_type": "code",
   "execution_count": 14,
   "id": "2b31c046-c40b-4b43-8a79-7ae84e0491fa",
   "metadata": {},
   "outputs": [
    {
     "data": {
      "image/png": "[encoded data removed]",
      "text/plain": [
       "<Figure size 432x288 with 2 Axes>"
      ]
     },
     "metadata": {
      "needs_background": "light"
     },
     "output_type": "display_data"
    }
   ],
   "source": [
    "plot_confusion_matrix(gs_et, X_test,y_test)\n",
    "plt.title('confusion matrix extra trees')\n",
    "plt.savefig('picture/confusion_matrix_et.png');"
   ]
  },
  {
   "cell_type": "code",
   "execution_count": 43,
   "id": "9566e3cc-3fc7-4fac-8fc9-d70b098a399c",
   "metadata": {},
   "outputs": [
    {
     "name": "stdout",
     "output_type": "stream",
     "text": [
      "              precision    recall  f1-score   support\n",
      "\n",
      "           0       0.81      0.89      0.85       250\n",
      "           1       0.88      0.78      0.83       250\n",
      "\n",
      "    accuracy                           0.84       500\n",
      "   macro avg       0.84      0.84      0.84       500\n",
      "weighted avg       0.84      0.84      0.84       500\n",
      "\n"
     ]
    }
   ],
   "source": [
    "# Classification report\n",
    "y_preds_et = gs_et.predict(X_test)\n",
    "report_et = classification_report(y_test, y_preds_et,output_dict=True)\n",
    "print(classification_report(y_test, y_preds_et))"
   ]
  },
  {
   "cell_type": "code",
   "execution_count": 39,
   "id": "ba0461a3-3b68-4b03-a801-3f947a008cd9",
   "metadata": {},
   "outputs": [],
   "source": [
    "dict_et = pd.DataFrame(report_et)\n",
    "dict_et.to_csv('EDA/classification_report_et.csv')"
   ]
  },
  {
   "cell_type": "markdown",
   "id": "31bd5829-920e-4738-9306-bd95767148b3",
   "metadata": {},
   "source": [
    "### SVM"
   ]
  },
  {
   "cell_type": "code",
   "execution_count": 21,
   "id": "a3556414-67c5-4fe8-93e6-33bca500a016",
   "metadata": {},
   "outputs": [
    {
     "name": "stdout",
     "output_type": "stream",
     "text": [
      "0.8059999999999998\n"
     ]
    },
    {
     "data": {
      "text/plain": [
       "{'svc__C': 1.631578947368421, 'svc__degree': 2, 'svc__kernel': 'rbf'}"
      ]
     },
     "execution_count": 21,
     "metadata": {},
     "output_type": "execute_result"
    }
   ],
   "source": [
    "# estimate with SVM\n",
    "pipe = Pipeline([\n",
    "    ('cvec', CountVectorizer()),\n",
    "    ('svc', SVC())\n",
    "])\n",
    "\n",
    "# gridsearch with SVC\n",
    "# parameters for svc\n",
    "svc_params = {\n",
    "    'svc__C': np.linspace(1,5,20),\n",
    "    'svc__kernel': ['linear', 'poly', 'rbf', 'sigmoid'],\n",
    "    'svc__degree': [2,3,4,5]\n",
    "}\n",
    "\n",
    "gs_svc = GridSearchCV(pipe, param_grid= svc_params, cv= 5)\n",
    "gs_svc.fit(X_train,y_train)\n",
    "print(gs_svc.best_score_)\n",
    "gs_svc.best_params_"
   ]
  },
  {
   "cell_type": "code",
   "execution_count": 22,
   "id": "0b2d11fc-a6f1-42cd-adef-c401f82f43d0",
   "metadata": {},
   "outputs": [
    {
     "data": {
      "text/plain": [
       "(0.976, 0.822)"
      ]
     },
     "execution_count": 22,
     "metadata": {},
     "output_type": "execute_result"
    }
   ],
   "source": [
    "gs_svc.score(X_train,y_train),gs_svc.score(X_test,y_test)"
   ]
  },
  {
   "cell_type": "code",
   "execution_count": 23,
   "id": "1b406a68-f4a0-4049-b061-4b4965d930b8",
   "metadata": {},
   "outputs": [
    {
     "data": {
      "image/png": "[encoded data removed]",
      "text/plain": [
       "<Figure size 432x288 with 2 Axes>"
      ]
     },
     "metadata": {
      "needs_background": "light"
     },
     "output_type": "display_data"
    }
   ],
   "source": [
    "plot_confusion_matrix(gs_svc, X_test,y_test)\n",
    "plt.title('confusion matrix SVC')\n",
    "plt.savefig('picture/confusion_matrix_svc.png');"
   ]
  },
  {
   "cell_type": "code",
   "execution_count": 42,
   "id": "a66ccd02-36fd-4e5b-bae3-f7c02fce24b9",
   "metadata": {},
   "outputs": [
    {
     "name": "stdout",
     "output_type": "stream",
     "text": [
      "              precision    recall  f1-score   support\n",
      "\n",
      "           0       0.82      0.83      0.82       250\n",
      "           1       0.83      0.82      0.82       250\n",
      "\n",
      "    accuracy                           0.82       500\n",
      "   macro avg       0.82      0.82      0.82       500\n",
      "weighted avg       0.82      0.82      0.82       500\n",
      "\n"
     ]
    }
   ],
   "source": [
    "# Classification report\n",
    "y_preds_svc = gs_svc.predict(X_test)\n",
    "report_svc = classification_report(y_test, y_preds_svc,output_dict=True)\n",
    "print(classification_report(y_test, y_preds_svc))"
   ]
  },
  {
   "cell_type": "code",
   "execution_count": 37,
   "id": "9cfde03a-47e9-478d-9367-cd4daa14ce97",
   "metadata": {},
   "outputs": [],
   "source": [
    "dict_svc = pd.DataFrame(report_svc)\n",
    "dict_svc.to_csv('EDA/classification_report_svc.csv')"
   ]
  },
  {
   "cell_type": "code",
   "execution_count": null,
   "id": "eb810999-6fbd-4283-ba96-b898bb91b21e",
   "metadata": {},
   "outputs": [],
   "source": []
  }
 ],
 "metadata": {
  "kernelspec": {
   "display_name": "Python 3",
   "language": "python",
   "name": "python3"
  },
  "language_info": {
   "codemirror_mode": {
    "name": "ipython",
    "version": 3
   },
   "file_extension": ".py",
   "mimetype": "text/x-python",
   "name": "python",
   "nbconvert_exporter": "python",
   "pygments_lexer": "ipython3",
   "version": "3.8.8"
  }
 },
 "nbformat": 4,
 "nbformat_minor": 5
}
