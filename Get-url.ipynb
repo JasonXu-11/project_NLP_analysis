{
 "cells": [
  {
   "cell_type": "code",
   "execution_count": 1,
   "id": "2a1173c9-ebee-4ece-abdc-61163d648d59",
   "metadata": {},
   "outputs": [],
   "source": [
    "import requests\n",
    "import time\n",
    "\n",
    "import pandas as pd"
   ]
  },
  {
   "cell_type": "code",
   "execution_count": 2,
   "id": "c5aefb83-1ca5-432a-9b37-1eb673fb5113",
   "metadata": {},
   "outputs": [],
   "source": [
    "# Use pushshift url to access reddit subreddits\n",
    "url = \"https://api.pushshift.io/reddit/search/submission\"\n",
    "subreddit = 'CryptoCurrency'\n",
    "before = 1623876484\n",
    "df_list = []\n",
    "\n",
    "for _ in range(10):\n",
    "    params = {\n",
    "        'subreddit': subreddit,\n",
    "        'size': 100,\n",
    "        'before': before\n",
    "    }\n",
    "    \n",
    "    # Use json type to tanscript data, change before to earlier \n",
    "    res = requests.get(url,params=params)\n",
    "    json = res.json()\n",
    "    before = json['data'][-1]['created_utc']\n",
    "    \n",
    "    # Create dataframe for json\n",
    "    dataframe = pd.DataFrame(json['data'])\n",
    "    df_list.append(dataframe)\n",
    "    time.sleep(1)"
   ]
  },
  {
   "cell_type": "code",
   "execution_count": 3,
   "id": "9f8eb446-7617-46e1-80fd-56cdd7041f59",
   "metadata": {},
   "outputs": [],
   "source": [
    "df_c = pd.concat(df_list).reset_index(drop = True)"
   ]
  },
  {
   "cell_type": "code",
   "execution_count": 4,
   "id": "6191f067-f526-4b8b-96c2-9f60f312451b",
   "metadata": {},
   "outputs": [],
   "source": [
    "df_c.to_csv('file/crypto.csv', index = False)"
   ]
  },
  {
   "cell_type": "code",
   "execution_count": 8,
   "id": "e4db7f8c-3b5a-4869-9bb6-4feb6f80ea75",
   "metadata": {},
   "outputs": [
    {
     "data": {
      "text/plain": [
       "(1000, 83)"
      ]
     },
     "execution_count": 8,
     "metadata": {},
     "output_type": "execute_result"
    }
   ],
   "source": [
    "df_c.shape"
   ]
  },
  {
   "cell_type": "code",
   "execution_count": 11,
   "id": "a6c60b39-4257-4533-9146-99745022eef1",
   "metadata": {},
   "outputs": [
    {
     "data": {
      "text/html": [
       "<div>\n",
       "<style scoped>\n",
       "    .dataframe tbody tr th:only-of-type {\n",
       "        vertical-align: middle;\n",
       "    }\n",
       "\n",
       "    .dataframe tbody tr th {\n",
       "        vertical-align: top;\n",
       "    }\n",
       "\n",
       "    .dataframe thead th {\n",
       "        text-align: right;\n",
       "    }\n",
       "</style>\n",
       "<table border=\"1\" class=\"dataframe\">\n",
       "  <thead>\n",
       "    <tr style=\"text-align: right;\">\n",
       "      <th></th>\n",
       "      <th>title</th>\n",
       "    </tr>\n",
       "    <tr>\n",
       "      <th>score</th>\n",
       "      <th></th>\n",
       "    </tr>\n",
       "  </thead>\n",
       "  <tbody>\n",
       "    <tr>\n",
       "      <th>0</th>\n",
       "      <td>Crypto miners eye cheap power in Texas, but fe...</td>\n",
       "    </tr>\n",
       "    <tr>\n",
       "      <th>38</th>\n",
       "      <td>Hey have you guys seen blockster you can earn ...</td>\n",
       "    </tr>\n",
       "    <tr>\n",
       "      <th>1</th>\n",
       "      <td>Crypto headlines are so tiresome.</td>\n",
       "    </tr>\n",
       "    <tr>\n",
       "      <th>1</th>\n",
       "      <td>Crypto headlines are so tiresome.</td>\n",
       "    </tr>\n",
       "    <tr>\n",
       "      <th>1</th>\n",
       "      <td>Crypto headlines are so tiresome.</td>\n",
       "    </tr>\n",
       "    <tr>\n",
       "      <th>...</th>\n",
       "      <td>...</td>\n",
       "    </tr>\n",
       "    <tr>\n",
       "      <th>0</th>\n",
       "      <td>Crypto miners eye cheap power in Texas, but fe...</td>\n",
       "    </tr>\n",
       "    <tr>\n",
       "      <th>6</th>\n",
       "      <td>How DeFi’s Open-Source “Immune System” Can Pro...</td>\n",
       "    </tr>\n",
       "    <tr>\n",
       "      <th>3</th>\n",
       "      <td>What do you think?</td>\n",
       "    </tr>\n",
       "    <tr>\n",
       "      <th>1</th>\n",
       "      <td>Crypto headlines are so tiresome.</td>\n",
       "    </tr>\n",
       "    <tr>\n",
       "      <th>1</th>\n",
       "      <td>Crypto headlines are so tiresome.</td>\n",
       "    </tr>\n",
       "  </tbody>\n",
       "</table>\n",
       "<p>1000 rows × 1 columns</p>\n",
       "</div>"
      ],
      "text/plain": [
       "                                                   title\n",
       "score                                                   \n",
       "0      Crypto miners eye cheap power in Texas, but fe...\n",
       "38     Hey have you guys seen blockster you can earn ...\n",
       "1                      Crypto headlines are so tiresome.\n",
       "1                      Crypto headlines are so tiresome.\n",
       "1                      Crypto headlines are so tiresome.\n",
       "...                                                  ...\n",
       "0      Crypto miners eye cheap power in Texas, but fe...\n",
       "6      How DeFi’s Open-Source “Immune System” Can Pro...\n",
       "3                                     What do you think?\n",
       "1                      Crypto headlines are so tiresome.\n",
       "1                      Crypto headlines are so tiresome.\n",
       "\n",
       "[1000 rows x 1 columns]"
      ]
     },
     "execution_count": 11,
     "metadata": {},
     "output_type": "execute_result"
    }
   ],
   "source": [
    "pd.DataFrame(df_c['title'],df_c['score'])"
   ]
  },
  {
   "cell_type": "code",
   "execution_count": 5,
   "id": "9e52ce73-daae-4b72-9da5-75a7ac6ca687",
   "metadata": {},
   "outputs": [],
   "source": [
    "# Use pushshift url to access reddit subreddits\n",
    "url = \"https://api.pushshift.io/reddit/search/submission\"\n",
    "subreddit = 'StockMarket'\n",
    "before = 1623876484\n",
    "df_list = []\n",
    "for _ in range(10):\n",
    "    params = {\n",
    "        'subreddit': subreddit,\n",
    "        'size': 100,\n",
    "        'before': before\n",
    "    }\n",
    "\n",
    "    \n",
    "    res = requests.get(url,params=params)\n",
    "    json = res.json()\n",
    "    before = json['data'][-1]['created_utc']\n",
    "    \n",
    "    dataframe = pd.DataFrame(json['data'])\n",
    "    df_list.append(dataframe)\n",
    "    time.sleep(1)"
   ]
  },
  {
   "cell_type": "code",
   "execution_count": 6,
   "id": "9a3593c3-d0d3-4ef2-8171-41b103e3e419",
   "metadata": {},
   "outputs": [],
   "source": [
    "df_s = pd.concat(df_list).reset_index(drop = True)"
   ]
  },
  {
   "cell_type": "code",
   "execution_count": 7,
   "id": "c479b47a-2ac1-4726-8ed9-4efeb91cacb2",
   "metadata": {},
   "outputs": [],
   "source": [
    "df_s.to_csv('file/stockmarket.csv',index = False)"
   ]
  },
  {
   "cell_type": "code",
   "execution_count": 9,
   "id": "afb9bcf1-cc26-49b3-b689-1abe870fcfe6",
   "metadata": {},
   "outputs": [
    {
     "data": {
      "text/plain": [
       "(1000, 81)"
      ]
     },
     "execution_count": 9,
     "metadata": {},
     "output_type": "execute_result"
    }
   ],
   "source": [
    "df_s.shape"
   ]
  },
  {
   "cell_type": "code",
   "execution_count": 12,
   "id": "ca69e34c-6de0-44e6-aff8-5506fd64c2e8",
   "metadata": {},
   "outputs": [
    {
     "data": {
      "text/html": [
       "<div>\n",
       "<style scoped>\n",
       "    .dataframe tbody tr th:only-of-type {\n",
       "        vertical-align: middle;\n",
       "    }\n",
       "\n",
       "    .dataframe tbody tr th {\n",
       "        vertical-align: top;\n",
       "    }\n",
       "\n",
       "    .dataframe thead th {\n",
       "        text-align: right;\n",
       "    }\n",
       "</style>\n",
       "<table border=\"1\" class=\"dataframe\">\n",
       "  <thead>\n",
       "    <tr style=\"text-align: right;\">\n",
       "      <th></th>\n",
       "      <th>title</th>\n",
       "    </tr>\n",
       "    <tr>\n",
       "      <th>score</th>\n",
       "      <th></th>\n",
       "    </tr>\n",
       "  </thead>\n",
       "  <tbody>\n",
       "    <tr>\n",
       "      <th>19</th>\n",
       "      <td>This sucks. This is bad for us. The current US...</td>\n",
       "    </tr>\n",
       "    <tr>\n",
       "      <th>1</th>\n",
       "      <td>OPT up today</td>\n",
       "    </tr>\n",
       "    <tr>\n",
       "      <th>1</th>\n",
       "      <td>OPT up today</td>\n",
       "    </tr>\n",
       "    <tr>\n",
       "      <th>1</th>\n",
       "      <td>OPT up today</td>\n",
       "    </tr>\n",
       "    <tr>\n",
       "      <th>1</th>\n",
       "      <td>OPT up today</td>\n",
       "    </tr>\n",
       "    <tr>\n",
       "      <th>...</th>\n",
       "      <td>...</td>\n",
       "    </tr>\n",
       "    <tr>\n",
       "      <th>1</th>\n",
       "      <td>OPT up today</td>\n",
       "    </tr>\n",
       "    <tr>\n",
       "      <th>1</th>\n",
       "      <td>OPT up today</td>\n",
       "    </tr>\n",
       "    <tr>\n",
       "      <th>1</th>\n",
       "      <td>OPT up today</td>\n",
       "    </tr>\n",
       "    <tr>\n",
       "      <th>1</th>\n",
       "      <td>OPT up today</td>\n",
       "    </tr>\n",
       "    <tr>\n",
       "      <th>1</th>\n",
       "      <td>OPT up today</td>\n",
       "    </tr>\n",
       "  </tbody>\n",
       "</table>\n",
       "<p>1000 rows × 1 columns</p>\n",
       "</div>"
      ],
      "text/plain": [
       "                                                   title\n",
       "score                                                   \n",
       "19     This sucks. This is bad for us. The current US...\n",
       "1                                           OPT up today\n",
       "1                                           OPT up today\n",
       "1                                           OPT up today\n",
       "1                                           OPT up today\n",
       "...                                                  ...\n",
       "1                                           OPT up today\n",
       "1                                           OPT up today\n",
       "1                                           OPT up today\n",
       "1                                           OPT up today\n",
       "1                                           OPT up today\n",
       "\n",
       "[1000 rows x 1 columns]"
      ]
     },
     "execution_count": 12,
     "metadata": {},
     "output_type": "execute_result"
    }
   ],
   "source": [
    "pd.DataFrame(df_s['title'],df_s['score'])"
   ]
  },
  {
   "cell_type": "code",
   "execution_count": null,
   "id": "357c3de2-0400-4ff7-8e13-243d56624acd",
   "metadata": {},
   "outputs": [],
   "source": []
  }
 ],
 "metadata": {
  "kernelspec": {
   "display_name": "Python 3",
   "language": "python",
   "name": "python3"
  },
  "language_info": {
   "codemirror_mode": {
    "name": "ipython",
    "version": 3
   },
   "file_extension": ".py",
   "mimetype": "text/x-python",
   "name": "python",
   "nbconvert_exporter": "python",
   "pygments_lexer": "ipython3",
   "version": "3.8.8"
  }
 },
 "nbformat": 4,
 "nbformat_minor": 5
}
