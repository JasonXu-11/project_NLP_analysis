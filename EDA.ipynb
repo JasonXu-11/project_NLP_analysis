{
 "cells": [
  {
   "cell_type": "code",
   "execution_count": 1,
   "id": "90482d78-ad88-44a4-ac51-eb8159502049",
   "metadata": {},
   "outputs": [],
   "source": [
    "import pandas as pd\n",
    "import matplotlib.pyplot as plt\n",
    "import seaborn as sns\n",
    "\n",
    "from sklearn.feature_extraction.text import CountVectorizer"
   ]
  },
  {
   "cell_type": "markdown",
   "id": "b9428744-0d57-4996-8ad2-98b098f2c5d9",
   "metadata": {},
   "source": [
    "## Load Data"
   ]
  },
  {
   "cell_type": "code",
   "execution_count": 2,
   "id": "2c8f922d-9230-4bab-b175-b820ac5af5e2",
   "metadata": {},
   "outputs": [],
   "source": [
    "# import data\n",
    "crypto = pd.read_csv('file/crypto.csv')\n",
    "stock = pd.read_csv('file/stockmarket.csv')"
   ]
  },
  {
   "cell_type": "code",
   "execution_count": 3,
   "id": "2242caa5-959f-4418-9cc3-1176b476fc93",
   "metadata": {},
   "outputs": [
    {
     "data": {
      "text/plain": [
       "Index(['all_awardings', 'allow_live_comments', 'author',\n",
       "       'author_flair_css_class', 'author_flair_richtext', 'author_flair_text',\n",
       "       'author_flair_type', 'author_fullname', 'author_patreon_flair',\n",
       "       'author_premium', 'awarders', 'can_mod_post', 'contest_mode',\n",
       "       'created_utc', 'domain', 'full_link', 'gildings', 'id',\n",
       "       'is_created_from_ads_ui', 'is_crosspostable', 'is_meta',\n",
       "       'is_original_content', 'is_reddit_media_domain', 'is_robot_indexable',\n",
       "       'is_self', 'is_video', 'link_flair_background_color',\n",
       "       'link_flair_css_class', 'link_flair_richtext', 'link_flair_template_id',\n",
       "       'link_flair_text', 'link_flair_text_color', 'link_flair_type', 'locked',\n",
       "       'media_metadata', 'media_only', 'no_follow', 'num_comments',\n",
       "       'num_crossposts', 'over_18', 'parent_whitelist_status', 'permalink',\n",
       "       'pinned', 'pwls', 'retrieved_on', 'score', 'selftext', 'send_replies',\n",
       "       'spoiler', 'stickied', 'subreddit', 'subreddit_id',\n",
       "       'subreddit_subscribers', 'subreddit_type', 'suggested_sort',\n",
       "       'thumbnail', 'thumbnail_height', 'thumbnail_width', 'title',\n",
       "       'total_awards_received', 'treatment_tags', 'upvote_ratio', 'url',\n",
       "       'whitelist_status', 'wls', 'removed_by_category', 'media',\n",
       "       'media_embed', 'secure_media', 'secure_media_embed',\n",
       "       'url_overridden_by_dest', 'post_hint', 'preview',\n",
       "       'author_flair_background_color', 'author_flair_text_color', 'banned_by',\n",
       "       'gallery_data', 'is_gallery', 'gilded', 'edited', 'author_cakeday'],\n",
       "      dtype='object')"
      ]
     },
     "execution_count": 3,
     "metadata": {},
     "output_type": "execute_result"
    }
   ],
   "source": [
    "# Check columns we want to explore\n",
    "stock.columns"
   ]
  },
  {
   "cell_type": "code",
   "execution_count": 4,
   "id": "c21c5554-fcb6-40b9-94cb-11382bb9ad26",
   "metadata": {},
   "outputs": [],
   "source": [
    "# Create the dataframe we want to do EDA\n",
    "df_stock = stock[['title','id','author','subreddit','score']]\n",
    "df_crypto = crypto[['title','id','author','subreddit','score']]"
   ]
  },
  {
   "cell_type": "code",
   "execution_count": 5,
   "id": "816d9d13-877c-4a02-aba5-dfa401c84c71",
   "metadata": {},
   "outputs": [
    {
     "data": {
      "text/plain": [
       "427"
      ]
     },
     "execution_count": 5,
     "metadata": {},
     "output_type": "execute_result"
    }
   ],
   "source": [
    "# Null value for selftext \n",
    "stock.isnull().sum()['selftext']"
   ]
  },
  {
   "cell_type": "code",
   "execution_count": 56,
   "id": "e1d7ae24-d84d-430c-bf72-548a962b7cc6",
   "metadata": {},
   "outputs": [
    {
     "data": {
      "text/plain": [
       "441"
      ]
     },
     "execution_count": 56,
     "metadata": {},
     "output_type": "execute_result"
    }
   ],
   "source": [
    "# Null value for title\n",
    "crypto.isnull().sum()['selftext']"
   ]
  },
  {
   "cell_type": "markdown",
   "id": "dd0e8cb4-8ad4-4e69-9e8a-32e6ac2b4206",
   "metadata": {},
   "source": [
    "## EDA"
   ]
  },
  {
   "cell_type": "markdown",
   "id": "d78ec595-41e3-4f1e-a7e3-ae6402bbf66e",
   "metadata": {},
   "source": [
    "### Check title length"
   ]
  },
  {
   "cell_type": "code",
   "execution_count": 7,
   "id": "67c57f4b-b5ac-4acb-b779-b2af633edfe1",
   "metadata": {},
   "outputs": [],
   "source": [
    "def get_word_count(status):\n",
    "    return len(status.split())"
   ]
  },
  {
   "cell_type": "code",
   "execution_count": 8,
   "id": "5f0626e9-1969-4217-ba55-26fd59dcd311",
   "metadata": {},
   "outputs": [
    {
     "name": "stderr",
     "output_type": "stream",
     "text": [
      "<ipython-input-8-8111fc3f2ac8>:2: SettingWithCopyWarning: \n",
      "A value is trying to be set on a copy of a slice from a DataFrame.\n",
      "Try using .loc[row_indexer,col_indexer] = value instead\n",
      "\n",
      "See the caveats in the documentation: https://pandas.pydata.org/pandas-docs/stable/user_guide/indexing.html#returning-a-view-versus-a-copy\n",
      "  df_stock['title_len'] = df_stock['title'].map(len)\n",
      "<ipython-input-8-8111fc3f2ac8>:3: SettingWithCopyWarning: \n",
      "A value is trying to be set on a copy of a slice from a DataFrame.\n",
      "Try using .loc[row_indexer,col_indexer] = value instead\n",
      "\n",
      "See the caveats in the documentation: https://pandas.pydata.org/pandas-docs/stable/user_guide/indexing.html#returning-a-view-versus-a-copy\n",
      "  df_stock['title_words'] = df_stock['title'].map(get_word_count)\n",
      "<ipython-input-8-8111fc3f2ac8>:4: SettingWithCopyWarning: \n",
      "A value is trying to be set on a copy of a slice from a DataFrame.\n",
      "Try using .loc[row_indexer,col_indexer] = value instead\n",
      "\n",
      "See the caveats in the documentation: https://pandas.pydata.org/pandas-docs/stable/user_guide/indexing.html#returning-a-view-versus-a-copy\n",
      "  df_crypto['title_len'] = df_crypto['title'].map(len)\n",
      "<ipython-input-8-8111fc3f2ac8>:5: SettingWithCopyWarning: \n",
      "A value is trying to be set on a copy of a slice from a DataFrame.\n",
      "Try using .loc[row_indexer,col_indexer] = value instead\n",
      "\n",
      "See the caveats in the documentation: https://pandas.pydata.org/pandas-docs/stable/user_guide/indexing.html#returning-a-view-versus-a-copy\n",
      "  df_crypto['title_words'] = df_crypto['title'].map(get_word_count)\n"
     ]
    }
   ],
   "source": [
    "# new columns contain title length, word counts\n",
    "df_stock['title_len'] = df_stock['title'].map(len)\n",
    "df_stock['title_words'] = df_stock['title'].map(get_word_count)\n",
    "df_crypto['title_len'] = df_crypto['title'].map(len)\n",
    "df_crypto['title_words'] = df_crypto['title'].map(get_word_count)"
   ]
  },
  {
   "cell_type": "code",
   "execution_count": 13,
   "id": "f09e365c-77b8-44c8-a7cc-7b9ec346ad2c",
   "metadata": {},
   "outputs": [
    {
     "data": {
      "text/html": [
       "<div>\n",
       "<style scoped>\n",
       "    .dataframe tbody tr th:only-of-type {\n",
       "        vertical-align: middle;\n",
       "    }\n",
       "\n",
       "    .dataframe tbody tr th {\n",
       "        vertical-align: top;\n",
       "    }\n",
       "\n",
       "    .dataframe thead th {\n",
       "        text-align: right;\n",
       "    }\n",
       "</style>\n",
       "<table border=\"1\" class=\"dataframe\">\n",
       "  <thead>\n",
       "    <tr style=\"text-align: right;\">\n",
       "      <th></th>\n",
       "      <th>title</th>\n",
       "      <th>id</th>\n",
       "      <th>author</th>\n",
       "      <th>subreddit</th>\n",
       "      <th>score</th>\n",
       "      <th>title_len</th>\n",
       "      <th>title_words</th>\n",
       "    </tr>\n",
       "  </thead>\n",
       "  <tbody>\n",
       "    <tr>\n",
       "      <th>716</th>\n",
       "      <td>Where does the value in Moons come from? Is th...</td>\n",
       "      <td>o12byo</td>\n",
       "      <td>Reckadesacration</td>\n",
       "      <td>CryptoCurrency</td>\n",
       "      <td>19</td>\n",
       "      <td>298</td>\n",
       "      <td>64</td>\n",
       "    </tr>\n",
       "    <tr>\n",
       "      <th>792</th>\n",
       "      <td>Question, I just found out there is a gift tax...</td>\n",
       "      <td>o11i2u</td>\n",
       "      <td>Palito415</td>\n",
       "      <td>CryptoCurrency</td>\n",
       "      <td>1</td>\n",
       "      <td>292</td>\n",
       "      <td>63</td>\n",
       "    </tr>\n",
       "    <tr>\n",
       "      <th>787</th>\n",
       "      <td>Question, I just found out there is a gift tax...</td>\n",
       "      <td>o11iyo</td>\n",
       "      <td>Palito415</td>\n",
       "      <td>CryptoCurrency</td>\n",
       "      <td>4</td>\n",
       "      <td>292</td>\n",
       "      <td>63</td>\n",
       "    </tr>\n",
       "    <tr>\n",
       "      <th>505</th>\n",
       "      <td>My cat Winky was mauled by a Fox last night I ...</td>\n",
       "      <td>o1614v</td>\n",
       "      <td>Otherwise-League7842</td>\n",
       "      <td>CryptoCurrency</td>\n",
       "      <td>1</td>\n",
       "      <td>304</td>\n",
       "      <td>62</td>\n",
       "    </tr>\n",
       "    <tr>\n",
       "      <th>234</th>\n",
       "      <td>Was interested in how long everyone stays in t...</td>\n",
       "      <td>o1afez</td>\n",
       "      <td>bob_dobbs507</td>\n",
       "      <td>CryptoCurrency</td>\n",
       "      <td>1</td>\n",
       "      <td>296</td>\n",
       "      <td>55</td>\n",
       "    </tr>\n",
       "  </tbody>\n",
       "</table>\n",
       "</div>"
      ],
      "text/plain": [
       "                                                 title      id  \\\n",
       "716  Where does the value in Moons come from? Is th...  o12byo   \n",
       "792  Question, I just found out there is a gift tax...  o11i2u   \n",
       "787  Question, I just found out there is a gift tax...  o11iyo   \n",
       "505  My cat Winky was mauled by a Fox last night I ...  o1614v   \n",
       "234  Was interested in how long everyone stays in t...  o1afez   \n",
       "\n",
       "                   author       subreddit  score  title_len  title_words  \n",
       "716      Reckadesacration  CryptoCurrency     19        298           64  \n",
       "792             Palito415  CryptoCurrency      1        292           63  \n",
       "787             Palito415  CryptoCurrency      4        292           63  \n",
       "505  Otherwise-League7842  CryptoCurrency      1        304           62  \n",
       "234          bob_dobbs507  CryptoCurrency      1        296           55  "
      ]
     },
     "execution_count": 13,
     "metadata": {},
     "output_type": "execute_result"
    }
   ],
   "source": [
    "df_crypto.sort_values(by='title_words',ascending=False).head()"
   ]
  },
  {
   "cell_type": "code",
   "execution_count": 12,
   "id": "d769b3fd-1b9e-4dad-ae56-07008efa872d",
   "metadata": {},
   "outputs": [
    {
     "data": {
      "text/html": [
       "<div>\n",
       "<style scoped>\n",
       "    .dataframe tbody tr th:only-of-type {\n",
       "        vertical-align: middle;\n",
       "    }\n",
       "\n",
       "    .dataframe tbody tr th {\n",
       "        vertical-align: top;\n",
       "    }\n",
       "\n",
       "    .dataframe thead th {\n",
       "        text-align: right;\n",
       "    }\n",
       "</style>\n",
       "<table border=\"1\" class=\"dataframe\">\n",
       "  <thead>\n",
       "    <tr style=\"text-align: right;\">\n",
       "      <th></th>\n",
       "      <th>title</th>\n",
       "      <th>id</th>\n",
       "      <th>author</th>\n",
       "      <th>subreddit</th>\n",
       "      <th>score</th>\n",
       "      <th>title_len</th>\n",
       "      <th>title_words</th>\n",
       "    </tr>\n",
       "  </thead>\n",
       "  <tbody>\n",
       "    <tr>\n",
       "      <th>980</th>\n",
       "      <td>$CLF What I see is most likely we will test zo...</td>\n",
       "      <td>nwr8ok</td>\n",
       "      <td>Mtraders</td>\n",
       "      <td>StockMarket</td>\n",
       "      <td>4</td>\n",
       "      <td>298</td>\n",
       "      <td>65</td>\n",
       "    </tr>\n",
       "    <tr>\n",
       "      <th>593</th>\n",
       "      <td>SNDL is at 1$ and I think it will go up to 3 d...</td>\n",
       "      <td>nyrwhz</td>\n",
       "      <td>AdministrativeYard</td>\n",
       "      <td>StockMarket</td>\n",
       "      <td>1</td>\n",
       "      <td>288</td>\n",
       "      <td>59</td>\n",
       "    </tr>\n",
       "    <tr>\n",
       "      <th>920</th>\n",
       "      <td>$wish Has held the line thus far! Currently I ...</td>\n",
       "      <td>nwyclu</td>\n",
       "      <td>Mtraders</td>\n",
       "      <td>StockMarket</td>\n",
       "      <td>0</td>\n",
       "      <td>289</td>\n",
       "      <td>59</td>\n",
       "    </tr>\n",
       "    <tr>\n",
       "      <th>757</th>\n",
       "      <td>Question: Who does these MONSTER trades at 4:0...</td>\n",
       "      <td>nxpiu3</td>\n",
       "      <td>ejpusa</td>\n",
       "      <td>StockMarket</td>\n",
       "      <td>1</td>\n",
       "      <td>290</td>\n",
       "      <td>56</td>\n",
       "    </tr>\n",
       "    <tr>\n",
       "      <th>292</th>\n",
       "      <td>Goodmorning ladies and Gents, i Know that most...</td>\n",
       "      <td>o09tbl</td>\n",
       "      <td>TransportationFair88</td>\n",
       "      <td>StockMarket</td>\n",
       "      <td>0</td>\n",
       "      <td>274</td>\n",
       "      <td>55</td>\n",
       "    </tr>\n",
       "  </tbody>\n",
       "</table>\n",
       "</div>"
      ],
      "text/plain": [
       "                                                 title      id  \\\n",
       "980  $CLF What I see is most likely we will test zo...  nwr8ok   \n",
       "593  SNDL is at 1$ and I think it will go up to 3 d...  nyrwhz   \n",
       "920  $wish Has held the line thus far! Currently I ...  nwyclu   \n",
       "757  Question: Who does these MONSTER trades at 4:0...  nxpiu3   \n",
       "292  Goodmorning ladies and Gents, i Know that most...  o09tbl   \n",
       "\n",
       "                   author    subreddit  score  title_len  title_words  \n",
       "980              Mtraders  StockMarket      4        298           65  \n",
       "593    AdministrativeYard  StockMarket      1        288           59  \n",
       "920              Mtraders  StockMarket      0        289           59  \n",
       "757                ejpusa  StockMarket      1        290           56  \n",
       "292  TransportationFair88  StockMarket      0        274           55  "
      ]
     },
     "execution_count": 12,
     "metadata": {},
     "output_type": "execute_result"
    }
   ],
   "source": [
    "df_stock.sort_values(by='title_words',ascending=False).head()"
   ]
  },
  {
   "cell_type": "markdown",
   "id": "62ac2222-96d6-409b-b542-eb74bf3a6c9d",
   "metadata": {},
   "source": [
    "### Visualize title length"
   ]
  },
  {
   "cell_type": "code",
   "execution_count": 16,
   "id": "796f5ac3-4c1a-478c-a07f-82609e765953",
   "metadata": {},
   "outputs": [
    {
     "data": {
      "image/png": "[encoded data removed]",
      "text/plain": [
       "<Figure size 432x288 with 1 Axes>"
      ]
     },
     "metadata": {
      "needs_background": "light"
     },
     "output_type": "display_data"
    }
   ],
   "source": [
    "plt.title('Distribution of Stockmarket title_words')\n",
    "plt.hist(df_stock['title_words']);"
   ]
  },
  {
   "cell_type": "code",
   "execution_count": 17,
   "id": "ee5c7c40-445b-43d6-a522-60d609c53bd1",
   "metadata": {},
   "outputs": [
    {
     "data": {
      "image/png": "[encoded data removed]",
      "text/plain": [
       "<Figure size 432x288 with 1 Axes>"
      ]
     },
     "metadata": {
      "needs_background": "light"
     },
     "output_type": "display_data"
    }
   ],
   "source": [
    "plt.title('Distribution of Cryptocurrency title_words')\n",
    "plt.hist(df_crypto['title_words']);"
   ]
  },
  {
   "cell_type": "markdown",
   "id": "1034a928-aa72-4cfc-9b8e-16b86d032cd9",
   "metadata": {},
   "source": [
    "### Visualize score"
   ]
  },
  {
   "cell_type": "code",
   "execution_count": 33,
   "id": "43179afa-cccf-4854-b183-b36311022fb3",
   "metadata": {},
   "outputs": [
    {
     "data": {
      "image/png": "[encoded data removed]",
      "text/plain": [
       "<Figure size 432x288 with 1 Axes>"
      ]
     },
     "metadata": {
      "needs_background": "light"
     },
     "output_type": "display_data"
    }
   ],
   "source": [
    "plt.title('Distribution of Cryptocurrency score')\n",
    "plt.scatter(df_crypto['title_words'],df_crypto['score'])\n",
    "plt.xlabel('number of words')\n",
    "plt.ylabel('score')\n",
    "plt.savefig('picture/Cryptocurrency_score.png');"
   ]
  },
  {
   "cell_type": "code",
   "execution_count": 34,
   "id": "21dc9bc0-0d67-489c-960d-4feeef6b4144",
   "metadata": {},
   "outputs": [
    {
     "data": {
      "image/png": "[encoded data removed]",
      "text/plain": [
       "<Figure size 432x288 with 1 Axes>"
      ]
     },
     "metadata": {
      "needs_background": "light"
     },
     "output_type": "display_data"
    }
   ],
   "source": [
    "plt.title('Distribution of Stockmarket score')\n",
    "plt.scatter(df_stock['title_words'],df_stock['score'])\n",
    "plt.xlabel('number of words')\n",
    "plt.ylabel('score')\n",
    "plt.savefig('picture/Stockmarket_score.png');"
   ]
  },
  {
   "cell_type": "markdown",
   "id": "c939a3bf-44e8-4952-99d0-3a8ea9664003",
   "metadata": {},
   "source": [
    "### Authors' post habit"
   ]
  },
  {
   "cell_type": "code",
   "execution_count": 27,
   "id": "6c03d57f-167f-40d1-ad7b-e883c99743b4",
   "metadata": {},
   "outputs": [
    {
     "data": {
      "text/plain": [
       "[deleted]               56\n",
       "Mtraders                26\n",
       "AccomplishedRush4641    18\n",
       "Grade19282              12\n",
       "SavannahSmiles_         11\n",
       "                        ..\n",
       "Pitiful_Slip             1\n",
       "kpruhs                   1\n",
       "Psychological_Owl281     1\n",
       "offshorecanyons          1\n",
       "Effective-Cricket-       1\n",
       "Name: author, Length: 650, dtype: int64"
      ]
     },
     "execution_count": 27,
     "metadata": {},
     "output_type": "execute_result"
    }
   ],
   "source": [
    "df_stock['author'].value_counts()"
   ]
  },
  {
   "cell_type": "code",
   "execution_count": 37,
   "id": "8d38727d-7cb9-4f76-971d-197f4147f10e",
   "metadata": {},
   "outputs": [],
   "source": [
    "df_stock[df_stock['author'] == 'Mtraders'].to_csv(\"EDA/Mtrader's posts.csv\")"
   ]
  },
  {
   "cell_type": "code",
   "execution_count": 41,
   "id": "cf11ce03-6423-40ff-be83-50d3821d43e3",
   "metadata": {},
   "outputs": [
    {
     "data": {
      "text/html": [
       "<div>\n",
       "<style scoped>\n",
       "    .dataframe tbody tr th:only-of-type {\n",
       "        vertical-align: middle;\n",
       "    }\n",
       "\n",
       "    .dataframe tbody tr th {\n",
       "        vertical-align: top;\n",
       "    }\n",
       "\n",
       "    .dataframe thead th {\n",
       "        text-align: right;\n",
       "    }\n",
       "</style>\n",
       "<table border=\"1\" class=\"dataframe\">\n",
       "  <thead>\n",
       "    <tr style=\"text-align: right;\">\n",
       "      <th></th>\n",
       "      <th>title</th>\n",
       "      <th>id</th>\n",
       "      <th>author</th>\n",
       "      <th>subreddit</th>\n",
       "      <th>score</th>\n",
       "      <th>title_len</th>\n",
       "      <th>title_words</th>\n",
       "    </tr>\n",
       "  </thead>\n",
       "  <tbody>\n",
       "    <tr>\n",
       "      <th>114</th>\n",
       "      <td>After market movers $FORD $CATB $GTEC $XELB $R...</td>\n",
       "      <td>o0yxff</td>\n",
       "      <td>Mtraders</td>\n",
       "      <td>StockMarket</td>\n",
       "      <td>6</td>\n",
       "      <td>79</td>\n",
       "      <td>13</td>\n",
       "    </tr>\n",
       "    <tr>\n",
       "      <th>243</th>\n",
       "      <td>$WISH quick trade analysis. Sold 50% at 12.50 ...</td>\n",
       "      <td>o0fh6s</td>\n",
       "      <td>Mtraders</td>\n",
       "      <td>StockMarket</td>\n",
       "      <td>11</td>\n",
       "      <td>226</td>\n",
       "      <td>43</td>\n",
       "    </tr>\n",
       "    <tr>\n",
       "      <th>287</th>\n",
       "      <td>$wish Approaching end of pennant. I think bull...</td>\n",
       "      <td>o0b265</td>\n",
       "      <td>Mtraders</td>\n",
       "      <td>StockMarket</td>\n",
       "      <td>12</td>\n",
       "      <td>70</td>\n",
       "      <td>12</td>\n",
       "    </tr>\n",
       "    <tr>\n",
       "      <th>297</th>\n",
       "      <td>Pre market movers $ufab $TRCH $SIOX $ELOX $RAP...</td>\n",
       "      <td>o092sk</td>\n",
       "      <td>Mtraders</td>\n",
       "      <td>StockMarket</td>\n",
       "      <td>33</td>\n",
       "      <td>76</td>\n",
       "      <td>13</td>\n",
       "    </tr>\n",
       "    <tr>\n",
       "      <th>388</th>\n",
       "      <td>$Wish We are at our first rejection zone keep ...</td>\n",
       "      <td>nzrr94</td>\n",
       "      <td>Mtraders</td>\n",
       "      <td>StockMarket</td>\n",
       "      <td>11</td>\n",
       "      <td>80</td>\n",
       "      <td>16</td>\n",
       "    </tr>\n",
       "    <tr>\n",
       "      <th>416</th>\n",
       "      <td>$wish two seller walls at 11.10 and 11.16 let’...</td>\n",
       "      <td>nzovp6</td>\n",
       "      <td>Mtraders</td>\n",
       "      <td>StockMarket</td>\n",
       "      <td>0</td>\n",
       "      <td>62</td>\n",
       "      <td>12</td>\n",
       "    </tr>\n",
       "    <tr>\n",
       "      <th>472</th>\n",
       "      <td>$WISH- Darkpool data speaks to me! Please see ...</td>\n",
       "      <td>nzeyah</td>\n",
       "      <td>Mtraders</td>\n",
       "      <td>StockMarket</td>\n",
       "      <td>21</td>\n",
       "      <td>297</td>\n",
       "      <td>52</td>\n",
       "    </tr>\n",
       "    <tr>\n",
       "      <th>488</th>\n",
       "      <td>How I should share my information from now on!</td>\n",
       "      <td>nzbhk7</td>\n",
       "      <td>Mtraders</td>\n",
       "      <td>StockMarket</td>\n",
       "      <td>1</td>\n",
       "      <td>46</td>\n",
       "      <td>9</td>\n",
       "    </tr>\n",
       "    <tr>\n",
       "      <th>493</th>\n",
       "      <td>Some quick charts $WISH $CLNE $CLOV $WKHS</td>\n",
       "      <td>nzavvw</td>\n",
       "      <td>Mtraders</td>\n",
       "      <td>StockMarket</td>\n",
       "      <td>27</td>\n",
       "      <td>41</td>\n",
       "      <td>7</td>\n",
       "    </tr>\n",
       "    <tr>\n",
       "      <th>503</th>\n",
       "      <td>Top stock I am trading! $WISH</td>\n",
       "      <td>nza2e1</td>\n",
       "      <td>Mtraders</td>\n",
       "      <td>StockMarket</td>\n",
       "      <td>12</td>\n",
       "      <td>29</td>\n",
       "      <td>6</td>\n",
       "    </tr>\n",
       "  </tbody>\n",
       "</table>\n",
       "</div>"
      ],
      "text/plain": [
       "                                                 title      id    author  \\\n",
       "114  After market movers $FORD $CATB $GTEC $XELB $R...  o0yxff  Mtraders   \n",
       "243  $WISH quick trade analysis. Sold 50% at 12.50 ...  o0fh6s  Mtraders   \n",
       "287  $wish Approaching end of pennant. I think bull...  o0b265  Mtraders   \n",
       "297  Pre market movers $ufab $TRCH $SIOX $ELOX $RAP...  o092sk  Mtraders   \n",
       "388  $Wish We are at our first rejection zone keep ...  nzrr94  Mtraders   \n",
       "416  $wish two seller walls at 11.10 and 11.16 let’...  nzovp6  Mtraders   \n",
       "472  $WISH- Darkpool data speaks to me! Please see ...  nzeyah  Mtraders   \n",
       "488     How I should share my information from now on!  nzbhk7  Mtraders   \n",
       "493          Some quick charts $WISH $CLNE $CLOV $WKHS  nzavvw  Mtraders   \n",
       "503                      Top stock I am trading! $WISH  nza2e1  Mtraders   \n",
       "\n",
       "       subreddit  score  title_len  title_words  \n",
       "114  StockMarket      6         79           13  \n",
       "243  StockMarket     11        226           43  \n",
       "287  StockMarket     12         70           12  \n",
       "297  StockMarket     33         76           13  \n",
       "388  StockMarket     11         80           16  \n",
       "416  StockMarket      0         62           12  \n",
       "472  StockMarket     21        297           52  \n",
       "488  StockMarket      1         46            9  \n",
       "493  StockMarket     27         41            7  \n",
       "503  StockMarket     12         29            6  "
      ]
     },
     "execution_count": 41,
     "metadata": {},
     "output_type": "execute_result"
    }
   ],
   "source": [
    "df_stock[df_stock['author'] == 'Mtraders'].head(10)"
   ]
  },
  {
   "cell_type": "code",
   "execution_count": 31,
   "id": "f900eea0-74d2-4336-8f29-18aba06d4ae0",
   "metadata": {},
   "outputs": [
    {
     "data": {
      "text/plain": [
       "[deleted]              119\n",
       "nj_crypto_news          22\n",
       "MammothSir9              9\n",
       "Honour1122               9\n",
       "simplelifestyle          7\n",
       "                      ... \n",
       "Cryptoquinas             1\n",
       "thegooddocgonzo          1\n",
       "helpmeboiskk             1\n",
       "No-Hyena-3220            1\n",
       "Illustrious-Big5828      1\n",
       "Name: author, Length: 706, dtype: int64"
      ]
     },
     "execution_count": 31,
     "metadata": {},
     "output_type": "execute_result"
    }
   ],
   "source": [
    "df_crypto['author'].value_counts()"
   ]
  },
  {
   "cell_type": "code",
   "execution_count": 39,
   "id": "eea09c28-8034-4f30-88cb-73a44f79d37b",
   "metadata": {},
   "outputs": [],
   "source": [
    "df_crypto[df_crypto['author'] == 'nj_crypto_news'].to_csv(\"EDA/nj's posts.csv\")"
   ]
  },
  {
   "cell_type": "code",
   "execution_count": 40,
   "id": "048ab204-1807-4068-a41f-8e40eb765384",
   "metadata": {},
   "outputs": [
    {
     "data": {
      "text/html": [
       "<div>\n",
       "<style scoped>\n",
       "    .dataframe tbody tr th:only-of-type {\n",
       "        vertical-align: middle;\n",
       "    }\n",
       "\n",
       "    .dataframe tbody tr th {\n",
       "        vertical-align: top;\n",
       "    }\n",
       "\n",
       "    .dataframe thead th {\n",
       "        text-align: right;\n",
       "    }\n",
       "</style>\n",
       "<table border=\"1\" class=\"dataframe\">\n",
       "  <thead>\n",
       "    <tr style=\"text-align: right;\">\n",
       "      <th></th>\n",
       "      <th>title</th>\n",
       "      <th>id</th>\n",
       "      <th>author</th>\n",
       "      <th>subreddit</th>\n",
       "      <th>score</th>\n",
       "      <th>title_len</th>\n",
       "      <th>title_words</th>\n",
       "    </tr>\n",
       "  </thead>\n",
       "  <tbody>\n",
       "    <tr>\n",
       "      <th>26</th>\n",
       "      <td>SBI Ripple Asia Powers Cambodia’s First Cross-...</td>\n",
       "      <td>o1enro</td>\n",
       "      <td>nj_crypto_news</td>\n",
       "      <td>CryptoCurrency</td>\n",
       "      <td>1</td>\n",
       "      <td>296</td>\n",
       "      <td>29</td>\n",
       "    </tr>\n",
       "    <tr>\n",
       "      <th>30</th>\n",
       "      <td>Court Denies SEC's Request For Documents Relat...</td>\n",
       "      <td>o1eigx</td>\n",
       "      <td>nj_crypto_news</td>\n",
       "      <td>CryptoCurrency</td>\n",
       "      <td>1</td>\n",
       "      <td>296</td>\n",
       "      <td>28</td>\n",
       "    </tr>\n",
       "    <tr>\n",
       "      <th>34</th>\n",
       "      <td>Ripple Reports 'Phenomenally Strong' First Qua...</td>\n",
       "      <td>o1eg1n</td>\n",
       "      <td>nj_crypto_news</td>\n",
       "      <td>CryptoCurrency</td>\n",
       "      <td>1</td>\n",
       "      <td>296</td>\n",
       "      <td>28</td>\n",
       "    </tr>\n",
       "    <tr>\n",
       "      <th>53</th>\n",
       "      <td>Bitcoin Extends Losses, Why $30K Holds The Key...</td>\n",
       "      <td>o1e0ou</td>\n",
       "      <td>nj_crypto_news</td>\n",
       "      <td>CryptoCurrency</td>\n",
       "      <td>1</td>\n",
       "      <td>293</td>\n",
       "      <td>26</td>\n",
       "    </tr>\n",
       "    <tr>\n",
       "      <th>54</th>\n",
       "      <td>Ripple Seeks XRP Transfer Data on Overseas Exc...</td>\n",
       "      <td>o1dzxp</td>\n",
       "      <td>nj_crypto_news</td>\n",
       "      <td>CryptoCurrency</td>\n",
       "      <td>1</td>\n",
       "      <td>285</td>\n",
       "      <td>22</td>\n",
       "    </tr>\n",
       "    <tr>\n",
       "      <th>75</th>\n",
       "      <td>Coinbase Pro to Enable Trading of Chiliz (CHZ)...</td>\n",
       "      <td>o1do9f</td>\n",
       "      <td>nj_crypto_news</td>\n",
       "      <td>CryptoCurrency</td>\n",
       "      <td>1</td>\n",
       "      <td>296</td>\n",
       "      <td>33</td>\n",
       "    </tr>\n",
       "    <tr>\n",
       "      <th>86</th>\n",
       "      <td>What will dictate Litecoin's movement in the n...</td>\n",
       "      <td>o1dhim</td>\n",
       "      <td>nj_crypto_news</td>\n",
       "      <td>CryptoCurrency</td>\n",
       "      <td>1</td>\n",
       "      <td>283</td>\n",
       "      <td>22</td>\n",
       "    </tr>\n",
       "    <tr>\n",
       "      <th>107</th>\n",
       "      <td>Bitcoin Addresses Holding Between 100 and 10,0...</td>\n",
       "      <td>o1cyf9</td>\n",
       "      <td>nj_crypto_news</td>\n",
       "      <td>CryptoCurrency</td>\n",
       "      <td>1</td>\n",
       "      <td>300</td>\n",
       "      <td>28</td>\n",
       "    </tr>\n",
       "    <tr>\n",
       "      <th>213</th>\n",
       "      <td>Fox to Invest $100M in NFT Content with Its Bl...</td>\n",
       "      <td>o1arxa</td>\n",
       "      <td>nj_crypto_news</td>\n",
       "      <td>CryptoCurrency</td>\n",
       "      <td>1</td>\n",
       "      <td>296</td>\n",
       "      <td>29</td>\n",
       "    </tr>\n",
       "    <tr>\n",
       "      <th>318</th>\n",
       "      <td>Bitcoin Will Reach $250,000 By The End Of 2022...</td>\n",
       "      <td>o18wso</td>\n",
       "      <td>nj_crypto_news</td>\n",
       "      <td>CryptoCurrency</td>\n",
       "      <td>1</td>\n",
       "      <td>231</td>\n",
       "      <td>19</td>\n",
       "    </tr>\n",
       "  </tbody>\n",
       "</table>\n",
       "</div>"
      ],
      "text/plain": [
       "                                                 title      id  \\\n",
       "26   SBI Ripple Asia Powers Cambodia’s First Cross-...  o1enro   \n",
       "30   Court Denies SEC's Request For Documents Relat...  o1eigx   \n",
       "34   Ripple Reports 'Phenomenally Strong' First Qua...  o1eg1n   \n",
       "53   Bitcoin Extends Losses, Why $30K Holds The Key...  o1e0ou   \n",
       "54   Ripple Seeks XRP Transfer Data on Overseas Exc...  o1dzxp   \n",
       "75   Coinbase Pro to Enable Trading of Chiliz (CHZ)...  o1do9f   \n",
       "86   What will dictate Litecoin's movement in the n...  o1dhim   \n",
       "107  Bitcoin Addresses Holding Between 100 and 10,0...  o1cyf9   \n",
       "213  Fox to Invest $100M in NFT Content with Its Bl...  o1arxa   \n",
       "318  Bitcoin Will Reach $250,000 By The End Of 2022...  o18wso   \n",
       "\n",
       "             author       subreddit  score  title_len  title_words  \n",
       "26   nj_crypto_news  CryptoCurrency      1        296           29  \n",
       "30   nj_crypto_news  CryptoCurrency      1        296           28  \n",
       "34   nj_crypto_news  CryptoCurrency      1        296           28  \n",
       "53   nj_crypto_news  CryptoCurrency      1        293           26  \n",
       "54   nj_crypto_news  CryptoCurrency      1        285           22  \n",
       "75   nj_crypto_news  CryptoCurrency      1        296           33  \n",
       "86   nj_crypto_news  CryptoCurrency      1        283           22  \n",
       "107  nj_crypto_news  CryptoCurrency      1        300           28  \n",
       "213  nj_crypto_news  CryptoCurrency      1        296           29  \n",
       "318  nj_crypto_news  CryptoCurrency      1        231           19  "
      ]
     },
     "execution_count": 40,
     "metadata": {},
     "output_type": "execute_result"
    }
   ],
   "source": [
    "df_crypto[df_crypto['author'] == 'nj_crypto_news'].head(10)"
   ]
  },
  {
   "cell_type": "markdown",
   "id": "20c07081-31ba-473f-a656-2e8374552e3f",
   "metadata": {},
   "source": [
    "### EDA on words"
   ]
  },
  {
   "cell_type": "code",
   "execution_count": 44,
   "id": "78b5656b-3d67-49a5-aed4-4e7d6a85fde6",
   "metadata": {},
   "outputs": [
    {
     "data": {
      "text/html": [
       "<div>\n",
       "<style scoped>\n",
       "    .dataframe tbody tr th:only-of-type {\n",
       "        vertical-align: middle;\n",
       "    }\n",
       "\n",
       "    .dataframe tbody tr th {\n",
       "        vertical-align: top;\n",
       "    }\n",
       "\n",
       "    .dataframe thead th {\n",
       "        text-align: right;\n",
       "    }\n",
       "</style>\n",
       "<table border=\"1\" class=\"dataframe\">\n",
       "  <thead>\n",
       "    <tr style=\"text-align: right;\">\n",
       "      <th></th>\n",
       "      <th>00</th>\n",
       "      <th>000</th>\n",
       "      <th>00000000</th>\n",
       "      <th>00000100</th>\n",
       "      <th>00000500</th>\n",
       "      <th>000008475</th>\n",
       "      <th>06</th>\n",
       "      <th>0x</th>\n",
       "      <th>0xe29d2783f308936813956b09cc433af6ced65dc2</th>\n",
       "      <th>0xpolygon</th>\n",
       "      <th>...</th>\n",
       "      <th>zapper</th>\n",
       "      <th>zavesca</th>\n",
       "      <th>zcash</th>\n",
       "      <th>zealand</th>\n",
       "      <th>zec</th>\n",
       "      <th>zed</th>\n",
       "      <th>zero</th>\n",
       "      <th>zk</th>\n",
       "      <th>zone</th>\n",
       "      <th>𝘾𝙀𝙇𝙀𝘽𝙍𝘼𝙏𝙀</th>\n",
       "    </tr>\n",
       "  </thead>\n",
       "  <tbody>\n",
       "    <tr>\n",
       "      <th>0</th>\n",
       "      <td>0</td>\n",
       "      <td>0</td>\n",
       "      <td>0</td>\n",
       "      <td>0</td>\n",
       "      <td>0</td>\n",
       "      <td>0</td>\n",
       "      <td>0</td>\n",
       "      <td>0</td>\n",
       "      <td>0</td>\n",
       "      <td>0</td>\n",
       "      <td>...</td>\n",
       "      <td>0</td>\n",
       "      <td>0</td>\n",
       "      <td>0</td>\n",
       "      <td>0</td>\n",
       "      <td>0</td>\n",
       "      <td>0</td>\n",
       "      <td>0</td>\n",
       "      <td>0</td>\n",
       "      <td>0</td>\n",
       "      <td>0</td>\n",
       "    </tr>\n",
       "    <tr>\n",
       "      <th>1</th>\n",
       "      <td>0</td>\n",
       "      <td>0</td>\n",
       "      <td>0</td>\n",
       "      <td>0</td>\n",
       "      <td>0</td>\n",
       "      <td>0</td>\n",
       "      <td>0</td>\n",
       "      <td>0</td>\n",
       "      <td>0</td>\n",
       "      <td>0</td>\n",
       "      <td>...</td>\n",
       "      <td>0</td>\n",
       "      <td>0</td>\n",
       "      <td>0</td>\n",
       "      <td>0</td>\n",
       "      <td>0</td>\n",
       "      <td>0</td>\n",
       "      <td>0</td>\n",
       "      <td>0</td>\n",
       "      <td>0</td>\n",
       "      <td>0</td>\n",
       "    </tr>\n",
       "    <tr>\n",
       "      <th>2</th>\n",
       "      <td>0</td>\n",
       "      <td>0</td>\n",
       "      <td>0</td>\n",
       "      <td>0</td>\n",
       "      <td>0</td>\n",
       "      <td>0</td>\n",
       "      <td>0</td>\n",
       "      <td>0</td>\n",
       "      <td>0</td>\n",
       "      <td>0</td>\n",
       "      <td>...</td>\n",
       "      <td>0</td>\n",
       "      <td>0</td>\n",
       "      <td>0</td>\n",
       "      <td>0</td>\n",
       "      <td>0</td>\n",
       "      <td>0</td>\n",
       "      <td>0</td>\n",
       "      <td>0</td>\n",
       "      <td>0</td>\n",
       "      <td>0</td>\n",
       "    </tr>\n",
       "  </tbody>\n",
       "</table>\n",
       "<p>3 rows × 2873 columns</p>\n",
       "</div>"
      ],
      "text/plain": [
       "   00  000  00000000  00000100  00000500  000008475  06  0x  \\\n",
       "0   0    0         0         0         0          0   0   0   \n",
       "1   0    0         0         0         0          0   0   0   \n",
       "2   0    0         0         0         0          0   0   0   \n",
       "\n",
       "   0xe29d2783f308936813956b09cc433af6ced65dc2  0xpolygon  ...  zapper  \\\n",
       "0                                           0          0  ...       0   \n",
       "1                                           0          0  ...       0   \n",
       "2                                           0          0  ...       0   \n",
       "\n",
       "   zavesca  zcash  zealand  zec  zed  zero  zk  zone  𝘾𝙀𝙇𝙀𝘽𝙍𝘼𝙏𝙀  \n",
       "0        0      0        0    0    0     0   0     0          0  \n",
       "1        0      0        0    0    0     0   0     0          0  \n",
       "2        0      0        0    0    0     0   0     0          0  \n",
       "\n",
       "[3 rows x 2873 columns]"
      ]
     },
     "execution_count": 44,
     "metadata": {},
     "output_type": "execute_result"
    }
   ],
   "source": [
    "# Vectorize cryptocurrency\n",
    "cv = CountVectorizer()\n",
    "cv.fit(df_crypto['title'])\n",
    "title_cv = cv.transform(df_crypto['title'])\n",
    "crypto_df = pd.DataFrame(title_cv.todense(),columns=cv.get_feature_names())\n",
    "\n",
    "crypto_df.head(3)"
   ]
  },
  {
   "cell_type": "code",
   "execution_count": 45,
   "id": "7f109513-8d01-4104-83cf-3e7c86086d89",
   "metadata": {},
   "outputs": [
    {
     "data": {
      "text/html": [
       "<div>\n",
       "<style scoped>\n",
       "    .dataframe tbody tr th:only-of-type {\n",
       "        vertical-align: middle;\n",
       "    }\n",
       "\n",
       "    .dataframe tbody tr th {\n",
       "        vertical-align: top;\n",
       "    }\n",
       "\n",
       "    .dataframe thead th {\n",
       "        text-align: right;\n",
       "    }\n",
       "</style>\n",
       "<table border=\"1\" class=\"dataframe\">\n",
       "  <thead>\n",
       "    <tr style=\"text-align: right;\">\n",
       "      <th></th>\n",
       "      <th>00</th>\n",
       "      <th>000</th>\n",
       "      <th>01</th>\n",
       "      <th>0215</th>\n",
       "      <th>03</th>\n",
       "      <th>05</th>\n",
       "      <th>06</th>\n",
       "      <th>10</th>\n",
       "      <th>100</th>\n",
       "      <th>1000</th>\n",
       "      <th>...</th>\n",
       "      <th>zero</th>\n",
       "      <th>zerobizz</th>\n",
       "      <th>zev</th>\n",
       "      <th>zg</th>\n",
       "      <th>zillow</th>\n",
       "      <th>zip</th>\n",
       "      <th>ziprecruiter</th>\n",
       "      <th>zo</th>\n",
       "      <th>zone</th>\n",
       "      <th>zones</th>\n",
       "    </tr>\n",
       "  </thead>\n",
       "  <tbody>\n",
       "    <tr>\n",
       "      <th>0</th>\n",
       "      <td>0</td>\n",
       "      <td>0</td>\n",
       "      <td>0</td>\n",
       "      <td>0</td>\n",
       "      <td>0</td>\n",
       "      <td>0</td>\n",
       "      <td>0</td>\n",
       "      <td>1</td>\n",
       "      <td>0</td>\n",
       "      <td>0</td>\n",
       "      <td>...</td>\n",
       "      <td>0</td>\n",
       "      <td>0</td>\n",
       "      <td>0</td>\n",
       "      <td>0</td>\n",
       "      <td>0</td>\n",
       "      <td>0</td>\n",
       "      <td>0</td>\n",
       "      <td>0</td>\n",
       "      <td>0</td>\n",
       "      <td>0</td>\n",
       "    </tr>\n",
       "    <tr>\n",
       "      <th>1</th>\n",
       "      <td>0</td>\n",
       "      <td>0</td>\n",
       "      <td>0</td>\n",
       "      <td>0</td>\n",
       "      <td>0</td>\n",
       "      <td>0</td>\n",
       "      <td>0</td>\n",
       "      <td>0</td>\n",
       "      <td>0</td>\n",
       "      <td>0</td>\n",
       "      <td>...</td>\n",
       "      <td>0</td>\n",
       "      <td>0</td>\n",
       "      <td>0</td>\n",
       "      <td>0</td>\n",
       "      <td>0</td>\n",
       "      <td>0</td>\n",
       "      <td>0</td>\n",
       "      <td>0</td>\n",
       "      <td>0</td>\n",
       "      <td>0</td>\n",
       "    </tr>\n",
       "    <tr>\n",
       "      <th>2</th>\n",
       "      <td>0</td>\n",
       "      <td>0</td>\n",
       "      <td>0</td>\n",
       "      <td>0</td>\n",
       "      <td>0</td>\n",
       "      <td>0</td>\n",
       "      <td>0</td>\n",
       "      <td>0</td>\n",
       "      <td>0</td>\n",
       "      <td>0</td>\n",
       "      <td>...</td>\n",
       "      <td>0</td>\n",
       "      <td>0</td>\n",
       "      <td>0</td>\n",
       "      <td>0</td>\n",
       "      <td>0</td>\n",
       "      <td>0</td>\n",
       "      <td>0</td>\n",
       "      <td>0</td>\n",
       "      <td>0</td>\n",
       "      <td>0</td>\n",
       "    </tr>\n",
       "  </tbody>\n",
       "</table>\n",
       "<p>3 rows × 2852 columns</p>\n",
       "</div>"
      ],
      "text/plain": [
       "   00  000  01  0215  03  05  06  10  100  1000  ...  zero  zerobizz  zev  zg  \\\n",
       "0   0    0   0     0   0   0   0   1    0     0  ...     0         0    0   0   \n",
       "1   0    0   0     0   0   0   0   0    0     0  ...     0         0    0   0   \n",
       "2   0    0   0     0   0   0   0   0    0     0  ...     0         0    0   0   \n",
       "\n",
       "   zillow  zip  ziprecruiter  zo  zone  zones  \n",
       "0       0    0             0   0     0      0  \n",
       "1       0    0             0   0     0      0  \n",
       "2       0    0             0   0     0      0  \n",
       "\n",
       "[3 rows x 2852 columns]"
      ]
     },
     "execution_count": 45,
     "metadata": {},
     "output_type": "execute_result"
    }
   ],
   "source": [
    "# Vectorize stockmarket \n",
    "cv.fit(df_stock['title'])\n",
    "title_cv = cv.transform(df_stock['title'])\n",
    "stock_df = pd.DataFrame(title_cv.todense(),columns=cv.get_feature_names())\n",
    "\n",
    "stock_df.head(3)"
   ]
  },
  {
   "cell_type": "code",
   "execution_count": 54,
   "id": "ae83b0cb-b634-4b75-8ca7-c39a6f0d8fdf",
   "metadata": {},
   "outputs": [
    {
     "data": {
      "image/png": "[encoded data removed]",
      "text/plain": [
       "<Figure size 432x288 with 1 Axes>"
      ]
     },
     "metadata": {
      "needs_background": "light"
     },
     "output_type": "display_data"
    }
   ],
   "source": [
    "crypto_df.sum().sort_values(ascending = False).head(15).plot(kind='barh')\n",
    "plt.title('frequency of 15 most common words for cryptocurrency')\n",
    "plt.savefig('EDA/frq_crypto.png');"
   ]
  },
  {
   "cell_type": "code",
   "execution_count": 55,
   "id": "91116407-e684-4cad-8c6a-9cd556b257c4",
   "metadata": {},
   "outputs": [
    {
     "data": {
      "image/png": "[encoded data removed]",
      "text/plain": [
       "<Figure size 432x288 with 1 Axes>"
      ]
     },
     "metadata": {
      "needs_background": "light"
     },
     "output_type": "display_data"
    }
   ],
   "source": [
    "stock_df.sum().sort_values(ascending = False).head(15).plot(kind='barh')\n",
    "plt.title('frequency of 15 most common words for stockmarket')\n",
    "plt.savefig('EDA/frq_stock.png');"
   ]
  },
  {
   "cell_type": "code",
   "execution_count": null,
   "id": "fbfa3977-61f5-49dc-8120-7edd0edb9148",
   "metadata": {},
   "outputs": [],
   "source": []
  }
 ],
 "metadata": {
  "kernelspec": {
   "display_name": "Python 3",
   "language": "python",
   "name": "python3"
  },
  "language_info": {
   "codemirror_mode": {
    "name": "ipython",
    "version": 3
   },
   "file_extension": ".py",
   "mimetype": "text/x-python",
   "name": "python",
   "nbconvert_exporter": "python",
   "pygments_lexer": "ipython3",
   "version": "3.8.8"
  }
 },
 "nbformat": 4,
 "nbformat_minor": 5
}
